{
 "cells": [
  {
   "cell_type": "code",
   "execution_count": 12,
   "outputs": [],
   "source": [
    "data_dir = \"data\"\n",
    "\n",
    "import pandas as pd\n",
    "from qasper_data.qasper_evaluator import token_f1_score\n"
   ],
   "metadata": {
    "collapsed": false,
    "ExecuteTime": {
     "end_time": "2023-12-18T10:01:39.393946Z",
     "start_time": "2023-12-18T10:01:39.374253Z"
    }
   },
   "id": "a07c3569da8de10"
  },
  {
   "cell_type": "code",
   "execution_count": 13,
   "outputs": [],
   "source": [
    "df = pd.read_csv(f\"{data_dir}/baseline_answers.csv\")\n",
    "\n",
    "# calculate f1 score for each answer\n",
    "df[\"f1\"], df[\"precision\"], df[\"recall\"] = zip(\n",
    "    *df.apply(lambda row: token_f1_score(row[\"answer_string\"], row[\"prediction\"]), axis=1)\n",
    ")"
   ],
   "metadata": {
    "collapsed": false,
    "ExecuteTime": {
     "end_time": "2023-12-18T10:01:39.407577Z",
     "start_time": "2023-12-18T10:01:39.379267Z"
    }
   },
   "id": "ced6f2687c083a42"
  },
  {
   "cell_type": "code",
   "execution_count": 14,
   "outputs": [
    {
     "data": {
      "text/plain": "                            question    paper_id answer_type  \\\n0  How big is the ANTISCAM dataset?   1911.10742  extractive   \n1  How big is the ANTISCAM dataset?   1911.10742  extractive   \n2  How big is the ANTISCAM dataset?   1911.10742  extractive   \n3  How big is the ANTISCAM dataset?   1911.10742  extractive   \n4  How big is the ANTISCAM dataset?   1911.10742  extractive   \n\n                                       answer_string  \\\n0                     3,044 sentences in 100 dialogs   \n1                            220 human-human dialogs   \n2  220 human-human dialogs. , 3,044 sentences in ...   \n3  220 human-human dialogs. The average conversat...   \n4                            220 human-human dialogs   \n\n                                          prediction        f1  precision  \\\n0    Based on the information provided in the con...  0.142857   0.400000   \n1    Based on the information provided in the con...  0.076923   0.333333   \n2    Based on the information provided in the con...  0.129032   0.250000   \n3    Based on the information provided in the con...  0.102564   0.125000   \n4    Based on the information provided in the con...  0.076923   0.333333   \n\n     recall  \n0  0.086957  \n1  0.043478  \n2  0.086957  \n3  0.086957  \n4  0.043478  ",
      "text/html": "<div>\n<style scoped>\n    .dataframe tbody tr th:only-of-type {\n        vertical-align: middle;\n    }\n\n    .dataframe tbody tr th {\n        vertical-align: top;\n    }\n\n    .dataframe thead th {\n        text-align: right;\n    }\n</style>\n<table border=\"1\" class=\"dataframe\">\n  <thead>\n    <tr style=\"text-align: right;\">\n      <th></th>\n      <th>question</th>\n      <th>paper_id</th>\n      <th>answer_type</th>\n      <th>answer_string</th>\n      <th>prediction</th>\n      <th>f1</th>\n      <th>precision</th>\n      <th>recall</th>\n    </tr>\n  </thead>\n  <tbody>\n    <tr>\n      <th>0</th>\n      <td>How big is the ANTISCAM dataset?</td>\n      <td>1911.10742</td>\n      <td>extractive</td>\n      <td>3,044 sentences in 100 dialogs</td>\n      <td>Based on the information provided in the con...</td>\n      <td>0.142857</td>\n      <td>0.400000</td>\n      <td>0.086957</td>\n    </tr>\n    <tr>\n      <th>1</th>\n      <td>How big is the ANTISCAM dataset?</td>\n      <td>1911.10742</td>\n      <td>extractive</td>\n      <td>220 human-human dialogs</td>\n      <td>Based on the information provided in the con...</td>\n      <td>0.076923</td>\n      <td>0.333333</td>\n      <td>0.043478</td>\n    </tr>\n    <tr>\n      <th>2</th>\n      <td>How big is the ANTISCAM dataset?</td>\n      <td>1911.10742</td>\n      <td>extractive</td>\n      <td>220 human-human dialogs. , 3,044 sentences in ...</td>\n      <td>Based on the information provided in the con...</td>\n      <td>0.129032</td>\n      <td>0.250000</td>\n      <td>0.086957</td>\n    </tr>\n    <tr>\n      <th>3</th>\n      <td>How big is the ANTISCAM dataset?</td>\n      <td>1911.10742</td>\n      <td>extractive</td>\n      <td>220 human-human dialogs. The average conversat...</td>\n      <td>Based on the information provided in the con...</td>\n      <td>0.102564</td>\n      <td>0.125000</td>\n      <td>0.086957</td>\n    </tr>\n    <tr>\n      <th>4</th>\n      <td>How big is the ANTISCAM dataset?</td>\n      <td>1911.10742</td>\n      <td>extractive</td>\n      <td>220 human-human dialogs</td>\n      <td>Based on the information provided in the con...</td>\n      <td>0.076923</td>\n      <td>0.333333</td>\n      <td>0.043478</td>\n    </tr>\n  </tbody>\n</table>\n</div>"
     },
     "execution_count": 14,
     "metadata": {},
     "output_type": "execute_result"
    }
   ],
   "source": [
    "df.head()"
   ],
   "metadata": {
    "collapsed": false,
    "ExecuteTime": {
     "end_time": "2023-12-18T10:01:39.440981Z",
     "start_time": "2023-12-18T10:01:39.393493Z"
    }
   },
   "id": "3ded4be06b8e9cfa"
  },
  {
   "cell_type": "markdown",
   "source": [
    "For each question we only select the answer with the highest score."
   ],
   "metadata": {
    "collapsed": false
   },
   "id": "8841a857d8ab045e"
  },
  {
   "cell_type": "code",
   "execution_count": 26,
   "outputs": [],
   "source": [
    "df = df.sort_values(by=[\"question\", \"f1\"], ascending=False).groupby(\"question\").head(1)\n",
    "# sort by index\n",
    "df = df.sort_index()"
   ],
   "metadata": {
    "collapsed": false,
    "ExecuteTime": {
     "end_time": "2023-12-18T10:02:50.092467Z",
     "start_time": "2023-12-18T10:02:50.088706Z"
    }
   },
   "id": "4347a4f9b3c92b01"
  },
  {
   "cell_type": "code",
   "execution_count": 27,
   "outputs": [
    {
     "data": {
      "text/plain": "                                             question    paper_id  \\\n0                   How big is the ANTISCAM dataset?   1911.10742   \n8   What is the accuracy of this model compared to...  1904.09131   \n15     What previous methods do they compare against?  1611.06322   \n18              What baselines did they compare with?  1604.02038   \n23                     Which NER dataset do they use?  1911.04474   \n\n    answer_type                                      answer_string  \\\n0    extractive                     3,044 sentences in 100 dialogs   \n8   abstractive  The micro and macro f1-scores of this model ar...   \n15  abstractive           Liu et al. (2015) and Yang et al. (2012)   \n18   extractive  LDA BIBREF2, Doc-NADE BIBREF24, HTMM BIBREF9, ...   \n23   extractive  CoNLL2003, OntoNotes 5.0, BIBREF35 released On...   \n\n                                           prediction        f1  precision  \\\n0     Based on the information provided in the con...  0.142857   0.400000   \n8     Based on the provided context information, I...  0.123596   0.333333   \n15    Based on the provided context information, t...  0.280000   0.777778   \n18    Based on the provided context information, t...  0.432432   1.000000   \n23    Based on the provided context information, t...  0.415584   0.727273   \n\n      recall  \n0   0.086957  \n8   0.075862  \n15  0.170732  \n18  0.275862  \n23  0.290909  ",
      "text/html": "<div>\n<style scoped>\n    .dataframe tbody tr th:only-of-type {\n        vertical-align: middle;\n    }\n\n    .dataframe tbody tr th {\n        vertical-align: top;\n    }\n\n    .dataframe thead th {\n        text-align: right;\n    }\n</style>\n<table border=\"1\" class=\"dataframe\">\n  <thead>\n    <tr style=\"text-align: right;\">\n      <th></th>\n      <th>question</th>\n      <th>paper_id</th>\n      <th>answer_type</th>\n      <th>answer_string</th>\n      <th>prediction</th>\n      <th>f1</th>\n      <th>precision</th>\n      <th>recall</th>\n    </tr>\n  </thead>\n  <tbody>\n    <tr>\n      <th>0</th>\n      <td>How big is the ANTISCAM dataset?</td>\n      <td>1911.10742</td>\n      <td>extractive</td>\n      <td>3,044 sentences in 100 dialogs</td>\n      <td>Based on the information provided in the con...</td>\n      <td>0.142857</td>\n      <td>0.400000</td>\n      <td>0.086957</td>\n    </tr>\n    <tr>\n      <th>8</th>\n      <td>What is the accuracy of this model compared to...</td>\n      <td>1904.09131</td>\n      <td>abstractive</td>\n      <td>The micro and macro f1-scores of this model ar...</td>\n      <td>Based on the provided context information, I...</td>\n      <td>0.123596</td>\n      <td>0.333333</td>\n      <td>0.075862</td>\n    </tr>\n    <tr>\n      <th>15</th>\n      <td>What previous methods do they compare against?</td>\n      <td>1611.06322</td>\n      <td>abstractive</td>\n      <td>Liu et al. (2015) and Yang et al. (2012)</td>\n      <td>Based on the provided context information, t...</td>\n      <td>0.280000</td>\n      <td>0.777778</td>\n      <td>0.170732</td>\n    </tr>\n    <tr>\n      <th>18</th>\n      <td>What baselines did they compare with?</td>\n      <td>1604.02038</td>\n      <td>extractive</td>\n      <td>LDA BIBREF2, Doc-NADE BIBREF24, HTMM BIBREF9, ...</td>\n      <td>Based on the provided context information, t...</td>\n      <td>0.432432</td>\n      <td>1.000000</td>\n      <td>0.275862</td>\n    </tr>\n    <tr>\n      <th>23</th>\n      <td>Which NER dataset do they use?</td>\n      <td>1911.04474</td>\n      <td>extractive</td>\n      <td>CoNLL2003, OntoNotes 5.0, BIBREF35 released On...</td>\n      <td>Based on the provided context information, t...</td>\n      <td>0.415584</td>\n      <td>0.727273</td>\n      <td>0.290909</td>\n    </tr>\n  </tbody>\n</table>\n</div>"
     },
     "execution_count": 27,
     "metadata": {},
     "output_type": "execute_result"
    }
   ],
   "source": [
    "df.head()"
   ],
   "metadata": {
    "collapsed": false,
    "ExecuteTime": {
     "end_time": "2023-12-18T10:02:50.729442Z",
     "start_time": "2023-12-18T10:02:50.718718Z"
    }
   },
   "id": "f675be55f53e1137"
  },
  {
   "cell_type": "code",
   "execution_count": 16,
   "outputs": [],
   "source": [
    "answer_by_types = df.groupby(\"answer_type\").agg(\n",
    "    {\"f1\": [\"mean\", \"std\"], \"precision\": [\"mean\", \"std\"], \"recall\": [\"mean\", \"std\"]}\n",
    ")\n"
   ],
   "metadata": {
    "collapsed": false,
    "ExecuteTime": {
     "end_time": "2023-12-18T10:01:39.442807Z",
     "start_time": "2023-12-18T10:01:39.404657Z"
    }
   },
   "id": "9c92a2465c24455a"
  },
  {
   "cell_type": "code",
   "execution_count": 17,
   "outputs": [
    {
     "data": {
      "text/plain": "                   f1           precision              recall          \n                 mean       std      mean       std      mean       std\nanswer_type                                                            \nabstractive  0.192305  0.107247  0.521445  0.180442  0.121503  0.074063\nboolean      0.032258       NaN  1.000000       NaN  0.016393       NaN\nextractive   0.381904  0.168132  0.660653  0.263724  0.303432  0.194598",
      "text/html": "<div>\n<style scoped>\n    .dataframe tbody tr th:only-of-type {\n        vertical-align: middle;\n    }\n\n    .dataframe tbody tr th {\n        vertical-align: top;\n    }\n\n    .dataframe thead tr th {\n        text-align: left;\n    }\n\n    .dataframe thead tr:last-of-type th {\n        text-align: right;\n    }\n</style>\n<table border=\"1\" class=\"dataframe\">\n  <thead>\n    <tr>\n      <th></th>\n      <th colspan=\"2\" halign=\"left\">f1</th>\n      <th colspan=\"2\" halign=\"left\">precision</th>\n      <th colspan=\"2\" halign=\"left\">recall</th>\n    </tr>\n    <tr>\n      <th></th>\n      <th>mean</th>\n      <th>std</th>\n      <th>mean</th>\n      <th>std</th>\n      <th>mean</th>\n      <th>std</th>\n    </tr>\n    <tr>\n      <th>answer_type</th>\n      <th></th>\n      <th></th>\n      <th></th>\n      <th></th>\n      <th></th>\n      <th></th>\n    </tr>\n  </thead>\n  <tbody>\n    <tr>\n      <th>abstractive</th>\n      <td>0.192305</td>\n      <td>0.107247</td>\n      <td>0.521445</td>\n      <td>0.180442</td>\n      <td>0.121503</td>\n      <td>0.074063</td>\n    </tr>\n    <tr>\n      <th>boolean</th>\n      <td>0.032258</td>\n      <td>NaN</td>\n      <td>1.000000</td>\n      <td>NaN</td>\n      <td>0.016393</td>\n      <td>NaN</td>\n    </tr>\n    <tr>\n      <th>extractive</th>\n      <td>0.381904</td>\n      <td>0.168132</td>\n      <td>0.660653</td>\n      <td>0.263724</td>\n      <td>0.303432</td>\n      <td>0.194598</td>\n    </tr>\n  </tbody>\n</table>\n</div>"
     },
     "execution_count": 17,
     "metadata": {},
     "output_type": "execute_result"
    }
   ],
   "source": [
    "\n",
    "answer_by_types"
   ],
   "metadata": {
    "collapsed": false,
    "ExecuteTime": {
     "end_time": "2023-12-18T10:01:39.443292Z",
     "start_time": "2023-12-18T10:01:39.410329Z"
    }
   },
   "id": "c68ba3ad3514f69d"
  },
  {
   "cell_type": "markdown",
   "source": [
    "# Quantiative analysis"
   ],
   "metadata": {
    "collapsed": false
   },
   "id": "25d4e51dd006f9ed"
  },
  {
   "cell_type": "code",
   "execution_count": 18,
   "outputs": [],
   "source": [
    "examples_extractive = df[df['answer_type'] == 'extractive'].sort_values(by='f1').head(3)\n",
    "examples_abstractive = df[df['answer_type'] == 'abstractive'].sort_values(by='f1').head(3)\n",
    "examples_boolean = df[df['answer_type'] == 'boolean'].sort_values(by='f1').head(3)\n",
    "examples_none = df[df['answer_type'] == 'none'].sort_values(by='f1').head(2)  # only two instances\n",
    "\n",
    "# combine examples for display\n",
    "combined_examples = pd.concat([examples_extractive, examples_abstractive, examples_boolean, examples_none])"
   ],
   "metadata": {
    "collapsed": false,
    "ExecuteTime": {
     "end_time": "2023-12-18T10:01:39.443358Z",
     "start_time": "2023-12-18T10:01:39.417202Z"
    }
   },
   "id": "e6b4b017e32d10d1"
  },
  {
   "cell_type": "code",
   "execution_count": 19,
   "outputs": [
    {
     "data": {
      "text/plain": "                                             question    paper_id  \\\n0                   How big is the ANTISCAM dataset?   1911.10742   \n23                     Which NER dataset do they use?  1911.04474   \n18              What baselines did they compare with?  1604.02038   \n36  How do data-driven models usually respond to a...  1909.04387   \n8   What is the accuracy of this model compared to...  1904.09131   \n29          What are the contributions of this paper?  1810.02229   \n40            Was the automatic annotation evaluated?  2003.13016   \n\n    answer_type                                      answer_string  \\\n0    extractive                     3,044 sentences in 100 dialogs   \n23   extractive  CoNLL2003, OntoNotes 5.0, BIBREF35 released On...   \n18   extractive  LDA BIBREF2, Doc-NADE BIBREF24, HTMM BIBREF9, ...   \n36  abstractive  either by refusing politely, or, with flirtati...   \n8   abstractive  The micro and macro f1-scores of this model ar...   \n29  abstractive  (1) Using seq2seq for event detection and clas...   \n40      boolean                                                 No   \n\n                                           prediction        f1  precision  \\\n0     Based on the information provided in the con...  0.142857   0.400000   \n23    Based on the provided context information, t...  0.415584   0.727273   \n18    Based on the provided context information, t...  0.432432   1.000000   \n36    Based on the provided context information, I...  0.051282   0.363636   \n8     Based on the provided context information, I...  0.123596   0.333333   \n29    Based on the provided context information, t...  0.197368   0.576923   \n40    Based on the provided context information, t...  0.032258   1.000000   \n\n      recall  \n0   0.086957  \n23  0.290909  \n18  0.275862  \n36  0.027586  \n8   0.075862  \n29  0.119048  \n40  0.016393  ",
      "text/html": "<div>\n<style scoped>\n    .dataframe tbody tr th:only-of-type {\n        vertical-align: middle;\n    }\n\n    .dataframe tbody tr th {\n        vertical-align: top;\n    }\n\n    .dataframe thead th {\n        text-align: right;\n    }\n</style>\n<table border=\"1\" class=\"dataframe\">\n  <thead>\n    <tr style=\"text-align: right;\">\n      <th></th>\n      <th>question</th>\n      <th>paper_id</th>\n      <th>answer_type</th>\n      <th>answer_string</th>\n      <th>prediction</th>\n      <th>f1</th>\n      <th>precision</th>\n      <th>recall</th>\n    </tr>\n  </thead>\n  <tbody>\n    <tr>\n      <th>0</th>\n      <td>How big is the ANTISCAM dataset?</td>\n      <td>1911.10742</td>\n      <td>extractive</td>\n      <td>3,044 sentences in 100 dialogs</td>\n      <td>Based on the information provided in the con...</td>\n      <td>0.142857</td>\n      <td>0.400000</td>\n      <td>0.086957</td>\n    </tr>\n    <tr>\n      <th>23</th>\n      <td>Which NER dataset do they use?</td>\n      <td>1911.04474</td>\n      <td>extractive</td>\n      <td>CoNLL2003, OntoNotes 5.0, BIBREF35 released On...</td>\n      <td>Based on the provided context information, t...</td>\n      <td>0.415584</td>\n      <td>0.727273</td>\n      <td>0.290909</td>\n    </tr>\n    <tr>\n      <th>18</th>\n      <td>What baselines did they compare with?</td>\n      <td>1604.02038</td>\n      <td>extractive</td>\n      <td>LDA BIBREF2, Doc-NADE BIBREF24, HTMM BIBREF9, ...</td>\n      <td>Based on the provided context information, t...</td>\n      <td>0.432432</td>\n      <td>1.000000</td>\n      <td>0.275862</td>\n    </tr>\n    <tr>\n      <th>36</th>\n      <td>How do data-driven models usually respond to a...</td>\n      <td>1909.04387</td>\n      <td>abstractive</td>\n      <td>either by refusing politely, or, with flirtati...</td>\n      <td>Based on the provided context information, I...</td>\n      <td>0.051282</td>\n      <td>0.363636</td>\n      <td>0.027586</td>\n    </tr>\n    <tr>\n      <th>8</th>\n      <td>What is the accuracy of this model compared to...</td>\n      <td>1904.09131</td>\n      <td>abstractive</td>\n      <td>The micro and macro f1-scores of this model ar...</td>\n      <td>Based on the provided context information, I...</td>\n      <td>0.123596</td>\n      <td>0.333333</td>\n      <td>0.075862</td>\n    </tr>\n    <tr>\n      <th>29</th>\n      <td>What are the contributions of this paper?</td>\n      <td>1810.02229</td>\n      <td>abstractive</td>\n      <td>(1) Using seq2seq for event detection and clas...</td>\n      <td>Based on the provided context information, t...</td>\n      <td>0.197368</td>\n      <td>0.576923</td>\n      <td>0.119048</td>\n    </tr>\n    <tr>\n      <th>40</th>\n      <td>Was the automatic annotation evaluated?</td>\n      <td>2003.13016</td>\n      <td>boolean</td>\n      <td>No</td>\n      <td>Based on the provided context information, t...</td>\n      <td>0.032258</td>\n      <td>1.000000</td>\n      <td>0.016393</td>\n    </tr>\n  </tbody>\n</table>\n</div>"
     },
     "execution_count": 19,
     "metadata": {},
     "output_type": "execute_result"
    }
   ],
   "source": [
    "combined_examples"
   ],
   "metadata": {
    "collapsed": false,
    "ExecuteTime": {
     "end_time": "2023-12-18T10:01:39.443667Z",
     "start_time": "2023-12-18T10:01:39.422139Z"
    }
   },
   "id": "d4c6ab6665f4a8fe"
  },
  {
   "cell_type": "markdown",
   "source": [
    "## Extractive Answers\n",
    "Question: How do data-driven models usually respond to a flirt?\n",
    "Answer String: politely refuse, politely refuses, flirtatious...\n",
    "F1 Score: 0.0132, Precision: 0.0069, Recall: 0.1667\n",
    "\n",
    "Question: How do data-driven models usually respond to a flirt?\n",
    "Answer String: Data-driven systems rank low in general\n",
    "F1 Score: 0.0397, Precision: 0.0207, Recall: 0.5000\n",
    "Question: How big is the ANTISCAM dataset?\n",
    "\n",
    "Answer String: 220 human-human dialogs\n",
    "F1 Score: 0.0769, Precision: 0.0435, Recall: 0.3333\n",
    "\n",
    "## Abstractive Answers\n",
    "Question: How do data-driven models usually respond to a flirt?\n",
    "Answer String: flirt; retaliation\n",
    "F1 Score: 0.0000, Precision: 0.0000, Recall: 0.0000\n",
    "\n",
    "Question: What is the accuracy of this model compared to others?\n",
    "Answer String: The accuracy\n",
    "F1 Score: 0.0137, Precision: 0.0069, Recall: 1.0000\n",
    "\n",
    "Question: How do data-driven models usually respond to a flirt?\n",
    "Answer String: either by refusing politely, or, with flirtation...\n",
    "F1 Score: 0.0513, Precision: 0.0276, Recall: 0.3636\n",
    "\n",
    "## Boolean Answers\n",
    "Question: Was the automatic annotation evaluated?\n",
    "Answer String: Yes\n",
    "F1 Score: 0.0000, Precision: 0.0000, Recall: 0.0000\n",
    "\n",
    "Question: Was the automatic annotation evaluated?\n",
    "Answer String: Yes\n",
    "F1 Score: 0.0000, Precision: 0.0000, Recall: 0.0000\n",
    "\n",
    "Question: Was the automatic annotation evaluated?\n",
    "Answer String: No\n",
    "F1 Score: 0.0323, Precision: 0.0164, Recall: 1.0000\n",
    "\n",
    "## None Answers\n",
    "Question: What is the accuracy of this model compared to others?\n",
    "\n",
    "Answer String: Unacceptable\n",
    "F1 Score: 0.0000, Precision: 0.0000, Recall: 0.0000\n",
    "Question: What is the accuracy of this model compared to others?\n",
    "\n",
    "Answer String: Unacceptable\n",
    "F1 Score: 0.0000, Precision: 0.0000, Recall: 0.0000\n",
    "\n",
    "## Analysis:\n",
    "Extractive Answers: The predictions seem to miss key tokens from the answers, leading to low precision and F1 scores.\n",
    "Abstractive Answers: These require paraphrasing, which can be challenging, leading to mismatches and lower scores.\n",
    "Boolean Answers: The predictions often fail to provide a direct yes/no answer, resulting in very low scores.\n",
    "None Answers: With no clear answer to match, the F1 scores are understandably zero."
   ],
   "metadata": {
    "collapsed": false
   },
   "id": "4895f20e1d90eada"
  },
  {
   "cell_type": "markdown",
   "source": [
    "# Analysis the finetuned model"
   ],
   "metadata": {
    "collapsed": false
   },
   "id": "f6ac4d2bb904fb"
  },
  {
   "cell_type": "code",
   "execution_count": 20,
   "outputs": [],
   "source": [
    "import pandas as pd\n",
    "from qasper_data.qasper_evaluator import token_f1_score\n",
    "data_dir = \"data\"\n",
    "\n",
    "finetuned_df = pd.read_csv(f\"{data_dir}/finetune_finetune_answers.csv\")"
   ],
   "metadata": {
    "collapsed": false,
    "ExecuteTime": {
     "end_time": "2023-12-18T10:01:39.443747Z",
     "start_time": "2023-12-18T10:01:39.426837Z"
    }
   },
   "id": "b9a05df8e3241dce"
  },
  {
   "cell_type": "code",
   "execution_count": 21,
   "outputs": [],
   "source": [
    "finetuned_df[\"f1\"], finetuned_df[\"precision\"], finetuned_df[\"recall\"] = zip(\n",
    "    *finetuned_df.apply(lambda row: token_f1_score(row[\"answer_string\"], row[\"prediction\"]), axis=1)\n",
    ")"
   ],
   "metadata": {
    "collapsed": false,
    "ExecuteTime": {
     "end_time": "2023-12-18T10:01:39.443855Z",
     "start_time": "2023-12-18T10:01:39.437816Z"
    }
   },
   "id": "10c465b51a0e0649"
  },
  {
   "cell_type": "code",
   "execution_count": 28,
   "outputs": [],
   "source": [
    "finetuned_df.head()\n",
    "\n",
    "finetuned_df = finetuned_df.sort_values(by=[\"question\", \"f1\"], ascending=False).groupby(\"question\").head(1)\n",
    "\n",
    "finetuned_df = finetuned_df.sort_index()"
   ],
   "metadata": {
    "collapsed": false,
    "ExecuteTime": {
     "end_time": "2023-12-18T10:03:13.482144Z",
     "start_time": "2023-12-18T10:03:13.476544Z"
    }
   },
   "id": "7efa7153c490919f"
  },
  {
   "cell_type": "code",
   "execution_count": 29,
   "outputs": [
    {
     "data": {
      "text/plain": "                                             question    paper_id  \\\n3                   How big is the ANTISCAM dataset?   1911.10742   \n10                           How is intent annotated?  1911.10742   \n16  What are the baselines outperformed by this work?  1911.10742   \n20  What are the evaluation metrics and criteria u...  1911.10742   \n24  What is the accuracy of this model compared to...  1904.09131   \n\n    answer_type                                      answer_string  \\\n3    extractive  220 human-human dialogs. The average conversat...   \n10   extractive  we design a hierarchical intent annotation sch...   \n16   extractive  TransferTransfo The vanilla TransferTransfo fr...   \n20   extractive  Fluency Fluency is used to explore different m...   \n24  abstractive  The model improves the state of the art perfor...   \n\n                                           prediction        f1  precision  \\\n3     Based on the provided context information, I...  0.571429   0.875000   \n10    Based on the provided context information, I...  0.478134   0.431579   \n16    Based on the provided context information, t...  0.146341   0.300000   \n20    Based on the provided context information, t...  0.375000   0.394161   \n24    Based on the provided context information, I...  0.139535   0.260870   \n\n      recall  \n3   0.424242  \n10  0.535948  \n16  0.096774  \n20  0.357616  \n24  0.095238  ",
      "text/html": "<div>\n<style scoped>\n    .dataframe tbody tr th:only-of-type {\n        vertical-align: middle;\n    }\n\n    .dataframe tbody tr th {\n        vertical-align: top;\n    }\n\n    .dataframe thead th {\n        text-align: right;\n    }\n</style>\n<table border=\"1\" class=\"dataframe\">\n  <thead>\n    <tr style=\"text-align: right;\">\n      <th></th>\n      <th>question</th>\n      <th>paper_id</th>\n      <th>answer_type</th>\n      <th>answer_string</th>\n      <th>prediction</th>\n      <th>f1</th>\n      <th>precision</th>\n      <th>recall</th>\n    </tr>\n  </thead>\n  <tbody>\n    <tr>\n      <th>3</th>\n      <td>How big is the ANTISCAM dataset?</td>\n      <td>1911.10742</td>\n      <td>extractive</td>\n      <td>220 human-human dialogs. The average conversat...</td>\n      <td>Based on the provided context information, I...</td>\n      <td>0.571429</td>\n      <td>0.875000</td>\n      <td>0.424242</td>\n    </tr>\n    <tr>\n      <th>10</th>\n      <td>How is intent annotated?</td>\n      <td>1911.10742</td>\n      <td>extractive</td>\n      <td>we design a hierarchical intent annotation sch...</td>\n      <td>Based on the provided context information, I...</td>\n      <td>0.478134</td>\n      <td>0.431579</td>\n      <td>0.535948</td>\n    </tr>\n    <tr>\n      <th>16</th>\n      <td>What are the baselines outperformed by this work?</td>\n      <td>1911.10742</td>\n      <td>extractive</td>\n      <td>TransferTransfo The vanilla TransferTransfo fr...</td>\n      <td>Based on the provided context information, t...</td>\n      <td>0.146341</td>\n      <td>0.300000</td>\n      <td>0.096774</td>\n    </tr>\n    <tr>\n      <th>20</th>\n      <td>What are the evaluation metrics and criteria u...</td>\n      <td>1911.10742</td>\n      <td>extractive</td>\n      <td>Fluency Fluency is used to explore different m...</td>\n      <td>Based on the provided context information, t...</td>\n      <td>0.375000</td>\n      <td>0.394161</td>\n      <td>0.357616</td>\n    </tr>\n    <tr>\n      <th>24</th>\n      <td>What is the accuracy of this model compared to...</td>\n      <td>1904.09131</td>\n      <td>abstractive</td>\n      <td>The model improves the state of the art perfor...</td>\n      <td>Based on the provided context information, I...</td>\n      <td>0.139535</td>\n      <td>0.260870</td>\n      <td>0.095238</td>\n    </tr>\n  </tbody>\n</table>\n</div>"
     },
     "execution_count": 29,
     "metadata": {},
     "output_type": "execute_result"
    }
   ],
   "source": [
    "finetuned_df.head()"
   ],
   "metadata": {
    "collapsed": false,
    "ExecuteTime": {
     "end_time": "2023-12-18T10:03:14.012957Z",
     "start_time": "2023-12-18T10:03:14.008214Z"
    }
   },
   "id": "4a3fe316c3df0c42"
  },
  {
   "cell_type": "code",
   "execution_count": 30,
   "outputs": [],
   "source": [
    "finetuned_answer_by_types = finetuned_df.groupby(\"answer_type\").agg(\n",
    "    {\"f1\": [\"mean\", \"std\"], \"precision\": [\"mean\", \"std\"], \"recall\": [\"mean\", \"std\"]}\n",
    ")\n"
   ],
   "metadata": {
    "collapsed": false,
    "ExecuteTime": {
     "end_time": "2023-12-18T10:03:23.058854Z",
     "start_time": "2023-12-18T10:03:23.049887Z"
    }
   },
   "id": "8a7d502239ae72a7"
  },
  {
   "cell_type": "code",
   "execution_count": 31,
   "outputs": [
    {
     "data": {
      "text/plain": "                   f1           precision              recall          \n                 mean       std      mean       std      mean       std\nanswer_type                                                            \nabstractive  0.136164  0.087456  0.505428  0.355627  0.128095  0.159138\nboolean      0.000000       NaN  0.000000       NaN  0.000000       NaN\nextractive   0.320536  0.170413  0.655751  0.247937  0.243739  0.157843\nnone         0.000000       NaN  0.000000       NaN  0.000000       NaN",
      "text/html": "<div>\n<style scoped>\n    .dataframe tbody tr th:only-of-type {\n        vertical-align: middle;\n    }\n\n    .dataframe tbody tr th {\n        vertical-align: top;\n    }\n\n    .dataframe thead tr th {\n        text-align: left;\n    }\n\n    .dataframe thead tr:last-of-type th {\n        text-align: right;\n    }\n</style>\n<table border=\"1\" class=\"dataframe\">\n  <thead>\n    <tr>\n      <th></th>\n      <th colspan=\"2\" halign=\"left\">f1</th>\n      <th colspan=\"2\" halign=\"left\">precision</th>\n      <th colspan=\"2\" halign=\"left\">recall</th>\n    </tr>\n    <tr>\n      <th></th>\n      <th>mean</th>\n      <th>std</th>\n      <th>mean</th>\n      <th>std</th>\n      <th>mean</th>\n      <th>std</th>\n    </tr>\n    <tr>\n      <th>answer_type</th>\n      <th></th>\n      <th></th>\n      <th></th>\n      <th></th>\n      <th></th>\n      <th></th>\n    </tr>\n  </thead>\n  <tbody>\n    <tr>\n      <th>abstractive</th>\n      <td>0.136164</td>\n      <td>0.087456</td>\n      <td>0.505428</td>\n      <td>0.355627</td>\n      <td>0.128095</td>\n      <td>0.159138</td>\n    </tr>\n    <tr>\n      <th>boolean</th>\n      <td>0.000000</td>\n      <td>NaN</td>\n      <td>0.000000</td>\n      <td>NaN</td>\n      <td>0.000000</td>\n      <td>NaN</td>\n    </tr>\n    <tr>\n      <th>extractive</th>\n      <td>0.320536</td>\n      <td>0.170413</td>\n      <td>0.655751</td>\n      <td>0.247937</td>\n      <td>0.243739</td>\n      <td>0.157843</td>\n    </tr>\n    <tr>\n      <th>none</th>\n      <td>0.000000</td>\n      <td>NaN</td>\n      <td>0.000000</td>\n      <td>NaN</td>\n      <td>0.000000</td>\n      <td>NaN</td>\n    </tr>\n  </tbody>\n</table>\n</div>"
     },
     "execution_count": 31,
     "metadata": {},
     "output_type": "execute_result"
    }
   ],
   "source": [
    "finetuned_answer_by_types"
   ],
   "metadata": {
    "collapsed": false,
    "ExecuteTime": {
     "end_time": "2023-12-18T10:03:24.046977Z",
     "start_time": "2023-12-18T10:03:24.040688Z"
    }
   },
   "id": "e0acce892e5d4d5b"
  },
  {
   "cell_type": "markdown",
   "source": [
    "# Inspect the Boolean answers"
   ],
   "metadata": {
    "collapsed": false
   },
   "id": "9e35a517328ec275"
  },
  {
   "cell_type": "code",
   "execution_count": 33,
   "outputs": [
    {
     "data": {
      "text/plain": "                                              question    paper_id  \\\n39                  Do they build a dataset of rumors?  1611.06322   \n40                  Do they build a dataset of rumors?  1611.06322   \n41                  Do they build a dataset of rumors?  1611.06322   \n43                  Do they build a dataset of rumors?  1611.06322   \n66   How do they incorporate direction and relative...  1911.04474   \n69   Do they outperform current NER state-of-the-ar...  1911.04474   \n70   Do they outperform current NER state-of-the-ar...  1911.04474   \n71   Do they outperform current NER state-of-the-ar...  1911.04474   \n94       Can the model be extended to other languages?  1810.02229   \n125            Was the automatic annotation evaluated?  2003.13016   \n\n    answer_type answer_string  \\\n39      boolean           Yes   \n40      boolean           Yes   \n41      boolean           Yes   \n43      boolean           Yes   \n66      boolean           Yes   \n69      boolean            No   \n70      boolean           Yes   \n71      boolean           Yes   \n94      boolean           Yes   \n125     boolean            No   \n\n                                            prediction  \n39     Based on the provided context information, i...  \n40     Based on the provided context information, i...  \n41     Based on the provided context information, i...  \n43     Based on the provided context information, i...  \n66     Based on the given context information, to i...  \n69     Based on the given context information, the ...  \n70     Based on the given context information, the ...  \n71     Based on the given context information, the ...  \n94     Based on the information provided, the Bi-LS...  \n125    Based on the provided context information, i...  ",
      "text/html": "<div>\n<style scoped>\n    .dataframe tbody tr th:only-of-type {\n        vertical-align: middle;\n    }\n\n    .dataframe tbody tr th {\n        vertical-align: top;\n    }\n\n    .dataframe thead th {\n        text-align: right;\n    }\n</style>\n<table border=\"1\" class=\"dataframe\">\n  <thead>\n    <tr style=\"text-align: right;\">\n      <th></th>\n      <th>question</th>\n      <th>paper_id</th>\n      <th>answer_type</th>\n      <th>answer_string</th>\n      <th>prediction</th>\n    </tr>\n  </thead>\n  <tbody>\n    <tr>\n      <th>39</th>\n      <td>Do they build a dataset of rumors?</td>\n      <td>1611.06322</td>\n      <td>boolean</td>\n      <td>Yes</td>\n      <td>Based on the provided context information, i...</td>\n    </tr>\n    <tr>\n      <th>40</th>\n      <td>Do they build a dataset of rumors?</td>\n      <td>1611.06322</td>\n      <td>boolean</td>\n      <td>Yes</td>\n      <td>Based on the provided context information, i...</td>\n    </tr>\n    <tr>\n      <th>41</th>\n      <td>Do they build a dataset of rumors?</td>\n      <td>1611.06322</td>\n      <td>boolean</td>\n      <td>Yes</td>\n      <td>Based on the provided context information, i...</td>\n    </tr>\n    <tr>\n      <th>43</th>\n      <td>Do they build a dataset of rumors?</td>\n      <td>1611.06322</td>\n      <td>boolean</td>\n      <td>Yes</td>\n      <td>Based on the provided context information, i...</td>\n    </tr>\n    <tr>\n      <th>66</th>\n      <td>How do they incorporate direction and relative...</td>\n      <td>1911.04474</td>\n      <td>boolean</td>\n      <td>Yes</td>\n      <td>Based on the given context information, to i...</td>\n    </tr>\n    <tr>\n      <th>69</th>\n      <td>Do they outperform current NER state-of-the-ar...</td>\n      <td>1911.04474</td>\n      <td>boolean</td>\n      <td>No</td>\n      <td>Based on the given context information, the ...</td>\n    </tr>\n    <tr>\n      <th>70</th>\n      <td>Do they outperform current NER state-of-the-ar...</td>\n      <td>1911.04474</td>\n      <td>boolean</td>\n      <td>Yes</td>\n      <td>Based on the given context information, the ...</td>\n    </tr>\n    <tr>\n      <th>71</th>\n      <td>Do they outperform current NER state-of-the-ar...</td>\n      <td>1911.04474</td>\n      <td>boolean</td>\n      <td>Yes</td>\n      <td>Based on the given context information, the ...</td>\n    </tr>\n    <tr>\n      <th>94</th>\n      <td>Can the model be extended to other languages?</td>\n      <td>1810.02229</td>\n      <td>boolean</td>\n      <td>Yes</td>\n      <td>Based on the information provided, the Bi-LS...</td>\n    </tr>\n    <tr>\n      <th>125</th>\n      <td>Was the automatic annotation evaluated?</td>\n      <td>2003.13016</td>\n      <td>boolean</td>\n      <td>No</td>\n      <td>Based on the provided context information, i...</td>\n    </tr>\n  </tbody>\n</table>\n</div>"
     },
     "execution_count": 33,
     "metadata": {},
     "output_type": "execute_result"
    }
   ],
   "source": [
    "finetuned_df = pd.read_csv(f\"{data_dir}/finetune_finetune_answers.csv\")\n",
    "\n",
    "finetuned_df[finetuned_df['answer_type'] == 'boolean'].head(10)"
   ],
   "metadata": {
    "collapsed": false,
    "ExecuteTime": {
     "end_time": "2023-12-18T10:06:56.275903Z",
     "start_time": "2023-12-18T10:06:56.265830Z"
    }
   },
   "id": "c78124af99b1737d"
  },
  {
   "cell_type": "code",
   "execution_count": 24,
   "outputs": [],
   "source": [],
   "metadata": {
    "collapsed": false,
    "ExecuteTime": {
     "end_time": "2023-12-18T10:01:39.458637Z",
     "start_time": "2023-12-18T10:01:39.454661Z"
    }
   },
   "id": "c8c1daf4a935076e"
  }
 ],
 "metadata": {
  "kernelspec": {
   "display_name": "Python 3",
   "language": "python",
   "name": "python3"
  },
  "language_info": {
   "codemirror_mode": {
    "name": "ipython",
    "version": 2
   },
   "file_extension": ".py",
   "mimetype": "text/x-python",
   "name": "python",
   "nbconvert_exporter": "python",
   "pygments_lexer": "ipython2",
   "version": "2.7.6"
  }
 },
 "nbformat": 4,
 "nbformat_minor": 5
}
